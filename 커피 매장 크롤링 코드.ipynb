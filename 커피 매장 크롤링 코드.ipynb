{
 "cells": [
  {
   "cell_type": "markdown",
   "id": "174ee4c4",
   "metadata": {},
   "source": [
    "# 할리스"
   ]
  },
  {
   "cell_type": "code",
   "execution_count": 9,
   "id": "c6f851b2",
   "metadata": {},
   "outputs": [],
   "source": [
    "import requests\n",
    "import json\n",
    "import pandas as pd\n",
    "from tqdm import trange\n",
    "import time\n",
    "\n",
    "import folium\n",
    "from bs4 import BeautifulSoup as bs\n"
   ]
  },
  {
   "cell_type": "code",
   "execution_count": 77,
   "id": "91994bcd",
   "metadata": {},
   "outputs": [
    {
     "data": {
      "text/plain": [
       "'?pageNo=1&sido=&gugun=&store='"
      ]
     },
     "execution_count": 77,
     "metadata": {},
     "output_type": "execute_result"
    }
   ],
   "source": [
    "# URL 만들기\n",
    "page_no = 1\n",
    "\n",
    "url =\"https://www.hollys.co.kr/store/korea/korStore2.do\"\n",
    "params = f\"?pageNo={page_no}&sido=&gugun=&store=\"\n",
    "params\n"
   ]
  },
  {
   "cell_type": "code",
   "execution_count": 78,
   "id": "1b57d38e",
   "metadata": {},
   "outputs": [],
   "source": [
    "# response\n",
    "response = requests.get(url, params = params)"
   ]
  },
  {
   "cell_type": "code",
   "execution_count": 79,
   "id": "d627d1c6",
   "metadata": {},
   "outputs": [
    {
     "data": {
      "text/html": [
       "<div>\n",
       "<style scoped>\n",
       "    .dataframe tbody tr th:only-of-type {\n",
       "        vertical-align: middle;\n",
       "    }\n",
       "\n",
       "    .dataframe tbody tr th {\n",
       "        vertical-align: top;\n",
       "    }\n",
       "\n",
       "    .dataframe thead th {\n",
       "        text-align: right;\n",
       "    }\n",
       "</style>\n",
       "<table border=\"1\" class=\"dataframe\">\n",
       "  <thead>\n",
       "    <tr style=\"text-align: right;\">\n",
       "      <th></th>\n",
       "      <th>지역</th>\n",
       "      <th>매장명</th>\n",
       "      <th>현황</th>\n",
       "      <th>주소</th>\n",
       "      <th>매장 서비스</th>\n",
       "      <th>전화번호</th>\n",
       "    </tr>\n",
       "  </thead>\n",
       "  <tbody>\n",
       "    <tr>\n",
       "      <th>0</th>\n",
       "      <td>충남 천안시 동남구</td>\n",
       "      <td>순천향대학교 천안병원 외래점</td>\n",
       "      <td>영업중</td>\n",
       "      <td>충청남도 천안시 동남구 순천향6길 31 (봉명동, 순천향대학교천안병원) 외래센터 2층</td>\n",
       "      <td>NaN</td>\n",
       "      <td>.</td>\n",
       "    </tr>\n",
       "    <tr>\n",
       "      <th>1</th>\n",
       "      <td>충남 천안시 동남구</td>\n",
       "      <td>순천향대학교 천안병원 본관점</td>\n",
       "      <td>영업중</td>\n",
       "      <td>충청남도 천안시 동남구 순천향6길 31 (봉명동, 순천향대학교천안병원) 본관 1층</td>\n",
       "      <td>NaN</td>\n",
       "      <td>.</td>\n",
       "    </tr>\n",
       "    <tr>\n",
       "      <th>2</th>\n",
       "      <td>충남 공주시</td>\n",
       "      <td>(천)이인휴게소점</td>\n",
       "      <td>영업중</td>\n",
       "      <td>충청남도 공주시 이인면 논산천안고속도로 32 (이인상행휴게소) .</td>\n",
       "      <td>NaN</td>\n",
       "      <td>.</td>\n",
       "    </tr>\n",
       "    <tr>\n",
       "      <th>3</th>\n",
       "      <td>충남 공주시</td>\n",
       "      <td>(논)탄천휴게소2호점</td>\n",
       "      <td>영업중</td>\n",
       "      <td>충청남도 공주시 탄천면 논산천안고속도로 27 (탄천하행휴게소) .</td>\n",
       "      <td>NaN</td>\n",
       "      <td>.</td>\n",
       "    </tr>\n",
       "    <tr>\n",
       "      <th>4</th>\n",
       "      <td>제주 제주시</td>\n",
       "      <td>이도점</td>\n",
       "      <td>영업중</td>\n",
       "      <td>제주특별자치도 제주시 중앙로 302 (이도이동, 더스프링) .</td>\n",
       "      <td>NaN</td>\n",
       "      <td>070-7694-2323</td>\n",
       "    </tr>\n",
       "    <tr>\n",
       "      <th>5</th>\n",
       "      <td>서울 마포구</td>\n",
       "      <td>연트럴파크점</td>\n",
       "      <td>영업중</td>\n",
       "      <td>서울특별시 마포구 동교로 233 (연남동) .</td>\n",
       "      <td>NaN</td>\n",
       "      <td>02-335-7805</td>\n",
       "    </tr>\n",
       "    <tr>\n",
       "      <th>6</th>\n",
       "      <td>서울 강남구</td>\n",
       "      <td>강남우리라운지점</td>\n",
       "      <td>영업중</td>\n",
       "      <td>서울특별시 강남구 테헤란로 301 역삼동 701-02 삼정빌딩 1층</td>\n",
       "      <td>NaN</td>\n",
       "      <td>02-566-1002</td>\n",
       "    </tr>\n",
       "    <tr>\n",
       "      <th>7</th>\n",
       "      <td>경기 수원시</td>\n",
       "      <td>수원영통점</td>\n",
       "      <td>영업중</td>\n",
       "      <td>경기도 수원시 영통구 청명남로 10 영통동 1000-1</td>\n",
       "      <td>NaN</td>\n",
       "      <td>031-202-3356</td>\n",
       "    </tr>\n",
       "    <tr>\n",
       "      <th>8</th>\n",
       "      <td>경기 고양시 덕양구</td>\n",
       "      <td>원흥역점</td>\n",
       "      <td>영업중</td>\n",
       "      <td>경기 고양시 덕양구 권율대로 690 201동 108호~111호</td>\n",
       "      <td>NaN</td>\n",
       "      <td>031.967.0302</td>\n",
       "    </tr>\n",
       "    <tr>\n",
       "      <th>9</th>\n",
       "      <td>서울 용산구</td>\n",
       "      <td>이태원역점</td>\n",
       "      <td>영업중</td>\n",
       "      <td>서울특별시 용산구 이태원로 180 2층~3층</td>\n",
       "      <td>NaN</td>\n",
       "      <td>02-749-8752</td>\n",
       "    </tr>\n",
       "  </tbody>\n",
       "</table>\n",
       "</div>"
      ],
      "text/plain": [
       "           지역              매장명   현황  \\\n",
       "0  충남 천안시 동남구  순천향대학교 천안병원 외래점  영업중   \n",
       "1  충남 천안시 동남구  순천향대학교 천안병원 본관점  영업중   \n",
       "2      충남 공주시        (천)이인휴게소점  영업중   \n",
       "3      충남 공주시      (논)탄천휴게소2호점  영업중   \n",
       "4      제주 제주시              이도점  영업중   \n",
       "5      서울 마포구           연트럴파크점  영업중   \n",
       "6      서울 강남구         강남우리라운지점  영업중   \n",
       "7      경기 수원시            수원영통점  영업중   \n",
       "8  경기 고양시 덕양구             원흥역점  영업중   \n",
       "9      서울 용산구            이태원역점  영업중   \n",
       "\n",
       "                                                주소  매장 서비스           전화번호  \n",
       "0  충청남도 천안시 동남구 순천향6길 31 (봉명동, 순천향대학교천안병원) 외래센터 2층     NaN              .  \n",
       "1    충청남도 천안시 동남구 순천향6길 31 (봉명동, 순천향대학교천안병원) 본관 1층     NaN              .  \n",
       "2             충청남도 공주시 이인면 논산천안고속도로 32 (이인상행휴게소) .     NaN              .  \n",
       "3             충청남도 공주시 탄천면 논산천안고속도로 27 (탄천하행휴게소) .     NaN              .  \n",
       "4               제주특별자치도 제주시 중앙로 302 (이도이동, 더스프링) .     NaN  070-7694-2323  \n",
       "5                        서울특별시 마포구 동교로 233 (연남동) .     NaN    02-335-7805  \n",
       "6            서울특별시 강남구 테헤란로 301 역삼동 701-02 삼정빌딩 1층     NaN    02-566-1002  \n",
       "7                   경기도 수원시 영통구 청명남로 10 영통동 1000-1     NaN   031-202-3356  \n",
       "8               경기 고양시 덕양구 권율대로 690 201동 108호~111호     NaN   031.967.0302  \n",
       "9                         서울특별시 용산구 이태원로 180 2층~3층     NaN    02-749-8752  "
      ]
     },
     "execution_count": 79,
     "metadata": {},
     "output_type": "execute_result"
    }
   ],
   "source": [
    "# response.text에 bs 적용하기\n",
    "pd.read_html(response.text)[0] "
   ]
  },
  {
   "cell_type": "code",
   "execution_count": 80,
   "id": "c8750fb2",
   "metadata": {},
   "outputs": [],
   "source": [
    "def page_scrapping(page_no):\n",
    "    url = f\"https://www.hollys.co.kr/store/korea/korStore2.do?pageNo={page_no}&sido=&gugun=&store=\"\n",
    "    response = requests.get(url)\n",
    "    html = bs(response.text)\n",
    "    df_table = pd.read_html(response.text)[0]\n",
    "    return df_table"
   ]
  },
  {
   "cell_type": "code",
   "execution_count": 81,
   "id": "c6197dbf",
   "metadata": {},
   "outputs": [
    {
     "data": {
      "text/html": [
       "<div>\n",
       "<style scoped>\n",
       "    .dataframe tbody tr th:only-of-type {\n",
       "        vertical-align: middle;\n",
       "    }\n",
       "\n",
       "    .dataframe tbody tr th {\n",
       "        vertical-align: top;\n",
       "    }\n",
       "\n",
       "    .dataframe thead th {\n",
       "        text-align: right;\n",
       "    }\n",
       "</style>\n",
       "<table border=\"1\" class=\"dataframe\">\n",
       "  <thead>\n",
       "    <tr style=\"text-align: right;\">\n",
       "      <th></th>\n",
       "      <th>지역</th>\n",
       "      <th>매장명</th>\n",
       "      <th>현황</th>\n",
       "      <th>주소</th>\n",
       "      <th>매장 서비스</th>\n",
       "      <th>전화번호</th>\n",
       "    </tr>\n",
       "  </thead>\n",
       "  <tbody>\n",
       "    <tr>\n",
       "      <th>0</th>\n",
       "      <td>서울 양천구</td>\n",
       "      <td>오목교역점</td>\n",
       "      <td>영업중</td>\n",
       "      <td>서울특별시 양천구 오목로 344 (목동, 청학빌딩) 1층</td>\n",
       "      <td>NaN</td>\n",
       "      <td>02-2062-8405</td>\n",
       "    </tr>\n",
       "    <tr>\n",
       "      <th>1</th>\n",
       "      <td>대구 서구</td>\n",
       "      <td>롯데시네마프리미엄만경관점</td>\n",
       "      <td>영업중</td>\n",
       "      <td>대구 중구 국채보상로 547 MMC 만경관 4층 .</td>\n",
       "      <td>NaN</td>\n",
       "      <td>070-7717-2192</td>\n",
       "    </tr>\n",
       "    <tr>\n",
       "      <th>2</th>\n",
       "      <td>전남 순천시</td>\n",
       "      <td>순천신대점</td>\n",
       "      <td>영업중</td>\n",
       "      <td>전라남도 순천시 해룡면 향매로 67 신대리 1978</td>\n",
       "      <td>NaN</td>\n",
       "      <td>061-723-5185</td>\n",
       "    </tr>\n",
       "    <tr>\n",
       "      <th>3</th>\n",
       "      <td>서울 금천구</td>\n",
       "      <td>시흥사거리점</td>\n",
       "      <td>영업중</td>\n",
       "      <td>서울특별시 금천구 시흥대로 225 시흥동 994-9</td>\n",
       "      <td>NaN</td>\n",
       "      <td>02-804-9226</td>\n",
       "    </tr>\n",
       "    <tr>\n",
       "      <th>4</th>\n",
       "      <td>전북 전주시 완산구</td>\n",
       "      <td>전주효천점</td>\n",
       "      <td>영업중</td>\n",
       "      <td>전라북도 전주시 완산구 쑥고개로 351, 1층 101호~102호 효자동2가 1326-4</td>\n",
       "      <td>NaN</td>\n",
       "      <td>063-224-5777</td>\n",
       "    </tr>\n",
       "    <tr>\n",
       "      <th>5</th>\n",
       "      <td>제주 제주시</td>\n",
       "      <td>제주도두해안DT점</td>\n",
       "      <td>영업중</td>\n",
       "      <td>제주특별자치도 제주시 도두일동 1686 .</td>\n",
       "      <td>NaN</td>\n",
       "      <td>064-745-7301</td>\n",
       "    </tr>\n",
       "    <tr>\n",
       "      <th>6</th>\n",
       "      <td>부산 북구</td>\n",
       "      <td>부산화명점</td>\n",
       "      <td>영업중</td>\n",
       "      <td>부산광역시 북구 금곡대로285번길 13 (화명동, 스포렉스) 스포렉스 106호,10...</td>\n",
       "      <td>NaN</td>\n",
       "      <td>070-8884-1101</td>\n",
       "    </tr>\n",
       "    <tr>\n",
       "      <th>7</th>\n",
       "      <td>서울 서초구</td>\n",
       "      <td>방배역점</td>\n",
       "      <td>영업중</td>\n",
       "      <td>서울특별시 서초구 방배로 107 (방배동, 디엠타워3관) 1층</td>\n",
       "      <td>NaN</td>\n",
       "      <td>02-523-4180</td>\n",
       "    </tr>\n",
       "    <tr>\n",
       "      <th>8</th>\n",
       "      <td>경기 고양시 덕양구</td>\n",
       "      <td>고양향동점</td>\n",
       "      <td>영업중</td>\n",
       "      <td>경기도 고양시 덕양구 향기3로 9, 101호 (향동동) 향동동 536</td>\n",
       "      <td>NaN</td>\n",
       "      <td>02-3158-0031</td>\n",
       "    </tr>\n",
       "    <tr>\n",
       "      <th>9</th>\n",
       "      <td>광주 북구</td>\n",
       "      <td>광주북구청점</td>\n",
       "      <td>영업중</td>\n",
       "      <td>광주광역시 북구 서방로 2 (중흥동) .</td>\n",
       "      <td>NaN</td>\n",
       "      <td>062-511-8002</td>\n",
       "    </tr>\n",
       "  </tbody>\n",
       "</table>\n",
       "</div>"
      ],
      "text/plain": [
       "           지역            매장명   현황  \\\n",
       "0      서울 양천구          오목교역점  영업중   \n",
       "1       대구 서구  롯데시네마프리미엄만경관점  영업중   \n",
       "2      전남 순천시          순천신대점  영업중   \n",
       "3      서울 금천구         시흥사거리점  영업중   \n",
       "4  전북 전주시 완산구          전주효천점  영업중   \n",
       "5      제주 제주시      제주도두해안DT점  영업중   \n",
       "6       부산 북구          부산화명점  영업중   \n",
       "7      서울 서초구           방배역점  영업중   \n",
       "8  경기 고양시 덕양구          고양향동점  영업중   \n",
       "9       광주 북구         광주북구청점  영업중   \n",
       "\n",
       "                                                  주소  매장 서비스           전화번호  \n",
       "0                    서울특별시 양천구 오목로 344 (목동, 청학빌딩) 1층     NaN   02-2062-8405  \n",
       "1                       대구 중구 국채보상로 547 MMC 만경관 4층 .     NaN  070-7717-2192  \n",
       "2                       전라남도 순천시 해룡면 향매로 67 신대리 1978     NaN   061-723-5185  \n",
       "3                       서울특별시 금천구 시흥대로 225 시흥동 994-9     NaN    02-804-9226  \n",
       "4   전라북도 전주시 완산구 쑥고개로 351, 1층 101호~102호 효자동2가 1326-4     NaN   063-224-5777  \n",
       "5                            제주특별자치도 제주시 도두일동 1686 .     NaN   064-745-7301  \n",
       "6  부산광역시 북구 금곡대로285번길 13 (화명동, 스포렉스) 스포렉스 106호,10...     NaN  070-8884-1101  \n",
       "7                 서울특별시 서초구 방배로 107 (방배동, 디엠타워3관) 1층     NaN    02-523-4180  \n",
       "8             경기도 고양시 덕양구 향기3로 9, 101호 (향동동) 향동동 536     NaN   02-3158-0031  \n",
       "9                             광주광역시 북구 서방로 2 (중흥동) .     NaN   062-511-8002  "
      ]
     },
     "execution_count": 81,
     "metadata": {},
     "output_type": "execute_result"
    }
   ],
   "source": [
    "page_scrapping(2)"
   ]
  },
  {
   "cell_type": "code",
   "execution_count": 82,
   "id": "d2f86c45",
   "metadata": {},
   "outputs": [
    {
     "name": "stderr",
     "output_type": "stream",
     "text": [
      "100%|██████████████████████████████████████████████████████████████████████████████████| 52/52 [00:19<00:00,  2.72it/s]\n"
     ]
    }
   ],
   "source": [
    "from tqdm import trange\n",
    "import time\n",
    "last_page = 52 # 할리스 마지막 페이지\n",
    "\n",
    "requests.packages.urllib3.disable_warnings(requests.packages.urllib3.exceptions.InsecureRequestWarning)\n",
    "\n",
    "page_list = []\n",
    "for page_no in trange(1,int(last_page)+1):\n",
    "    result = page_scrapping(page_no)\n",
    "    page_list.append(result)\n",
    "    time.sleep(0.01)"
   ]
  },
  {
   "cell_type": "code",
   "execution_count": 83,
   "id": "9473708f",
   "metadata": {},
   "outputs": [],
   "source": [
    "df = pd.concat(page_list)"
   ]
  },
  {
   "cell_type": "code",
   "execution_count": 84,
   "id": "b37ceaad",
   "metadata": {},
   "outputs": [],
   "source": [
    "df = df[['지역','매장명','현황','주소']]"
   ]
  },
  {
   "cell_type": "code",
   "execution_count": 92,
   "id": "1b1fa7b7",
   "metadata": {},
   "outputs": [],
   "source": [
    "df['브랜드명'] = '할리스'"
   ]
  },
  {
   "cell_type": "code",
   "execution_count": 93,
   "id": "6d31486c",
   "metadata": {},
   "outputs": [
    {
     "data": {
      "text/html": [
       "<div>\n",
       "<style scoped>\n",
       "    .dataframe tbody tr th:only-of-type {\n",
       "        vertical-align: middle;\n",
       "    }\n",
       "\n",
       "    .dataframe tbody tr th {\n",
       "        vertical-align: top;\n",
       "    }\n",
       "\n",
       "    .dataframe thead th {\n",
       "        text-align: right;\n",
       "    }\n",
       "</style>\n",
       "<table border=\"1\" class=\"dataframe\">\n",
       "  <thead>\n",
       "    <tr style=\"text-align: right;\">\n",
       "      <th></th>\n",
       "      <th>지역</th>\n",
       "      <th>매장명</th>\n",
       "      <th>현황</th>\n",
       "      <th>주소</th>\n",
       "      <th>브랜드명</th>\n",
       "    </tr>\n",
       "  </thead>\n",
       "  <tbody>\n",
       "    <tr>\n",
       "      <th>0</th>\n",
       "      <td>충남 천안시 동남구</td>\n",
       "      <td>순천향대학교 천안병원 외래점</td>\n",
       "      <td>영업중</td>\n",
       "      <td>충청남도 천안시 동남구 순천향6길 31 (봉명동, 순천향대학교천안병원) 외래센터 2층</td>\n",
       "      <td>할리스</td>\n",
       "    </tr>\n",
       "    <tr>\n",
       "      <th>1</th>\n",
       "      <td>충남 천안시 동남구</td>\n",
       "      <td>순천향대학교 천안병원 본관점</td>\n",
       "      <td>영업중</td>\n",
       "      <td>충청남도 천안시 동남구 순천향6길 31 (봉명동, 순천향대학교천안병원) 본관 1층</td>\n",
       "      <td>할리스</td>\n",
       "    </tr>\n",
       "    <tr>\n",
       "      <th>2</th>\n",
       "      <td>충남 공주시</td>\n",
       "      <td>(천)이인휴게소점</td>\n",
       "      <td>영업중</td>\n",
       "      <td>충청남도 공주시 이인면 논산천안고속도로 32 (이인상행휴게소) .</td>\n",
       "      <td>할리스</td>\n",
       "    </tr>\n",
       "    <tr>\n",
       "      <th>3</th>\n",
       "      <td>충남 공주시</td>\n",
       "      <td>(논)탄천휴게소2호점</td>\n",
       "      <td>영업중</td>\n",
       "      <td>충청남도 공주시 탄천면 논산천안고속도로 27 (탄천하행휴게소) .</td>\n",
       "      <td>할리스</td>\n",
       "    </tr>\n",
       "    <tr>\n",
       "      <th>4</th>\n",
       "      <td>제주 제주시</td>\n",
       "      <td>이도점</td>\n",
       "      <td>영업중</td>\n",
       "      <td>제주특별자치도 제주시 중앙로 302 (이도이동, 더스프링) .</td>\n",
       "      <td>할리스</td>\n",
       "    </tr>\n",
       "  </tbody>\n",
       "</table>\n",
       "</div>"
      ],
      "text/plain": [
       "           지역              매장명   현황  \\\n",
       "0  충남 천안시 동남구  순천향대학교 천안병원 외래점  영업중   \n",
       "1  충남 천안시 동남구  순천향대학교 천안병원 본관점  영업중   \n",
       "2      충남 공주시        (천)이인휴게소점  영업중   \n",
       "3      충남 공주시      (논)탄천휴게소2호점  영업중   \n",
       "4      제주 제주시              이도점  영업중   \n",
       "\n",
       "                                                주소 브랜드명  \n",
       "0  충청남도 천안시 동남구 순천향6길 31 (봉명동, 순천향대학교천안병원) 외래센터 2층  할리스  \n",
       "1    충청남도 천안시 동남구 순천향6길 31 (봉명동, 순천향대학교천안병원) 본관 1층  할리스  \n",
       "2             충청남도 공주시 이인면 논산천안고속도로 32 (이인상행휴게소) .  할리스  \n",
       "3             충청남도 공주시 탄천면 논산천안고속도로 27 (탄천하행휴게소) .  할리스  \n",
       "4               제주특별자치도 제주시 중앙로 302 (이도이동, 더스프링) .  할리스  "
      ]
     },
     "execution_count": 93,
     "metadata": {},
     "output_type": "execute_result"
    }
   ],
   "source": [
    "df.head()"
   ]
  },
  {
   "cell_type": "code",
   "execution_count": 87,
   "id": "6aaf03b0",
   "metadata": {},
   "outputs": [
    {
     "data": {
      "text/plain": [
       "(520, 5)"
      ]
     },
     "execution_count": 87,
     "metadata": {},
     "output_type": "execute_result"
    }
   ],
   "source": [
    "df.shape"
   ]
  },
  {
   "cell_type": "code",
   "execution_count": 88,
   "id": "e8e9991b",
   "metadata": {},
   "outputs": [],
   "source": [
    "file_name = \"할리스매장.csv\"\n",
    "df.to_csv(file_name,index = False ,  encoding=\"utf-8-sig\")"
   ]
  },
  {
   "cell_type": "markdown",
   "id": "9e425165",
   "metadata": {},
   "source": [
    "# 엔젤리너스"
   ]
  },
  {
   "cell_type": "code",
   "execution_count": 127,
   "id": "588c1157",
   "metadata": {},
   "outputs": [],
   "source": [
    "page_no = 1\n",
    "\n",
    "url = f\"https://partner.payco.com/merchant/search/offline/detail/list?currentPage={page_no}&perPage=15&partnerType=FRANCHISE&partnerCode=ANGELINUS&searchWord=\""
   ]
  },
  {
   "cell_type": "code",
   "execution_count": 185,
   "id": "0b95d15d",
   "metadata": {},
   "outputs": [],
   "source": [
    "def angel_scrapping(page_no):\n",
    "    url = f\"https://partner.payco.com/merchant/search/offline/detail/list?currentPage={page_no}&perPage=15&partnerType=FRANCHISE&partnerCode=ANGELINUS&searchWord=\"\n",
    "    headers = {'user-agent': 'Mozilla/5.0'}\n",
    "    response = requests.get(url, headers=headers)\n",
    "    angel_json = response.json()\n",
    "    df = pd.DataFrame(angel_json['partnerList'])\n",
    "    df = df[['partnerAddress','partnerName']]\n",
    "    return df"
   ]
  },
  {
   "cell_type": "code",
   "execution_count": 186,
   "id": "fc222f4e",
   "metadata": {},
   "outputs": [
    {
     "data": {
      "text/html": [
       "<div>\n",
       "<style scoped>\n",
       "    .dataframe tbody tr th:only-of-type {\n",
       "        vertical-align: middle;\n",
       "    }\n",
       "\n",
       "    .dataframe tbody tr th {\n",
       "        vertical-align: top;\n",
       "    }\n",
       "\n",
       "    .dataframe thead th {\n",
       "        text-align: right;\n",
       "    }\n",
       "</style>\n",
       "<table border=\"1\" class=\"dataframe\">\n",
       "  <thead>\n",
       "    <tr style=\"text-align: right;\">\n",
       "      <th></th>\n",
       "      <th>partnerAddress</th>\n",
       "      <th>partnerName</th>\n",
       "    </tr>\n",
       "  </thead>\n",
       "  <tbody>\n",
       "    <tr>\n",
       "      <th>0</th>\n",
       "      <td>충청남도 태안군 태안읍 702-1</td>\n",
       "      <td>엔제리너스(충남태안점)</td>\n",
       "    </tr>\n",
       "    <tr>\n",
       "      <th>1</th>\n",
       "      <td>충청남도 서산시 안견로 191</td>\n",
       "      <td>엔제리너스(서산터미널점)</td>\n",
       "    </tr>\n",
       "    <tr>\n",
       "      <th>2</th>\n",
       "      <td>경기도 시흥시 거북섬5길4 114,115,206,207호</td>\n",
       "      <td>엔제리너스(시화거북섬)</td>\n",
       "    </tr>\n",
       "    <tr>\n",
       "      <th>3</th>\n",
       "      <td>인천광역시 연수구 컨벤시아대로 177 롯데마트</td>\n",
       "      <td>엔제리너스(롯데마트송도점)</td>\n",
       "    </tr>\n",
       "    <tr>\n",
       "      <th>4</th>\n",
       "      <td>충청남도 홍성군 홍학로 87 엘가프라자</td>\n",
       "      <td>엔제리너스(홍성내포엘가점)</td>\n",
       "    </tr>\n",
       "    <tr>\n",
       "      <th>5</th>\n",
       "      <td>경기도 시흥시 서울대학로 59-69  1층 138,139호</td>\n",
       "      <td>엔제리너스(배곧테크노벨리)</td>\n",
       "    </tr>\n",
       "    <tr>\n",
       "      <th>6</th>\n",
       "      <td>인천광역시 중구 월미문화로 71 월미비치타운</td>\n",
       "      <td>엔제리너스(인천월미)</td>\n",
       "    </tr>\n",
       "    <tr>\n",
       "      <th>7</th>\n",
       "      <td>경기도 화성시 남양시장로24번길 7-1</td>\n",
       "      <td>엔제리너스(화성남양)</td>\n",
       "    </tr>\n",
       "    <tr>\n",
       "      <th>8</th>\n",
       "      <td>인천광역시 연수구 용담로 146</td>\n",
       "      <td>엔제리너스(인천연수점)</td>\n",
       "    </tr>\n",
       "    <tr>\n",
       "      <th>9</th>\n",
       "      <td>인천광역시 미추홀구 연남로 35 롯데백화점 인천터미널점 B1</td>\n",
       "      <td>엔제리너스(롯데백인천터미널점)</td>\n",
       "    </tr>\n",
       "    <tr>\n",
       "      <th>10</th>\n",
       "      <td>경기도 화성시 팔탄면 서해안고속도로 302 1층 엔제리너스</td>\n",
       "      <td>엔제리너스(화성휴게소(상))</td>\n",
       "    </tr>\n",
       "    <tr>\n",
       "      <th>11</th>\n",
       "      <td>인천광역시 서구 북항로32번안길 50 모다아울렛 인천점</td>\n",
       "      <td>엔제리너스(모다아울렛인천점)</td>\n",
       "    </tr>\n",
       "    <tr>\n",
       "      <th>12</th>\n",
       "      <td>인천광역시 계양구 작전동 448-7</td>\n",
       "      <td>엔제리너스(홈플러스인천작전TO)</td>\n",
       "    </tr>\n",
       "    <tr>\n",
       "      <th>13</th>\n",
       "      <td>경기도 부천시 원미구 길주로 300(중동,외1필지 롯데백화점10층)</td>\n",
       "      <td>엔제리너스(롯데백중동식당가)</td>\n",
       "    </tr>\n",
       "    <tr>\n",
       "      <th>14</th>\n",
       "      <td>경기도 부천시 원미구 길주로  300, 지하1층(중동, 롯데백화점)</td>\n",
       "      <td>엔제리너스(롯데백중동식품관)</td>\n",
       "    </tr>\n",
       "  </tbody>\n",
       "</table>\n",
       "</div>"
      ],
      "text/plain": [
       "                            partnerAddress        partnerName\n",
       "0                       충청남도 태안군 태안읍 702-1       엔제리너스(충남태안점)\n",
       "1                         충청남도 서산시 안견로 191      엔제리너스(서산터미널점)\n",
       "2          경기도 시흥시 거북섬5길4 114,115,206,207호       엔제리너스(시화거북섬)\n",
       "3                인천광역시 연수구 컨벤시아대로 177 롯데마트     엔제리너스(롯데마트송도점)\n",
       "4                    충청남도 홍성군 홍학로 87 엘가프라자     엔제리너스(홍성내포엘가점)\n",
       "5        경기도 시흥시 서울대학로 59-69  1층 138,139호      엔제리너스(배곧테크노벨리)\n",
       "6                 인천광역시 중구 월미문화로 71 월미비치타운        엔제리너스(인천월미)\n",
       "7                    경기도 화성시 남양시장로24번길 7-1        엔제리너스(화성남양)\n",
       "8                        인천광역시 연수구 용담로 146       엔제리너스(인천연수점)\n",
       "9       인천광역시 미추홀구 연남로 35 롯데백화점 인천터미널점 B1    엔제리너스(롯데백인천터미널점)\n",
       "10       경기도 화성시 팔탄면 서해안고속도로 302 1층 엔제리너스     엔제리너스(화성휴게소(상))\n",
       "11          인천광역시 서구 북항로32번안길 50 모다아울렛 인천점    엔제리너스(모다아울렛인천점)\n",
       "12                     인천광역시 계양구 작전동 448-7  엔제리너스(홈플러스인천작전TO)\n",
       "13  경기도 부천시 원미구 길주로 300(중동,외1필지 롯데백화점10층)     엔제리너스(롯데백중동식당가)\n",
       "14  경기도 부천시 원미구 길주로  300, 지하1층(중동, 롯데백화점)     엔제리너스(롯데백중동식품관)"
      ]
     },
     "execution_count": 186,
     "metadata": {},
     "output_type": "execute_result"
    }
   ],
   "source": [
    "angel_scrapping(1)"
   ]
  },
  {
   "cell_type": "code",
   "execution_count": 187,
   "id": "3d2cf551",
   "metadata": {},
   "outputs": [
    {
     "name": "stderr",
     "output_type": "stream",
     "text": [
      "100%|██████████████████████████████████████████████████████████████████████████████████| 21/21 [00:02<00:00,  9.32it/s]\n"
     ]
    }
   ],
   "source": [
    "from tqdm import trange\n",
    "import time\n",
    "last_page = 21 # 엔제리너스 마지막 페이지\n",
    "\n",
    "requests.packages.urllib3.disable_warnings(requests.packages.urllib3.exceptions.InsecureRequestWarning)\n",
    "\n",
    "page_list = []\n",
    "for page_no in trange(1,int(last_page)+1):\n",
    "    result = angel_scrapping(page_no)\n",
    "    page_list.append(result)\n",
    "    time.sleep(0.01)\n"
   ]
  },
  {
   "cell_type": "code",
   "execution_count": 188,
   "id": "75417b6f",
   "metadata": {},
   "outputs": [],
   "source": [
    "df_angel = pd.concat(page_list)"
   ]
  },
  {
   "cell_type": "code",
   "execution_count": 189,
   "id": "1d762e23",
   "metadata": {},
   "outputs": [],
   "source": [
    "df_angel.columns = ['지역', '매장명']"
   ]
  },
  {
   "cell_type": "code",
   "execution_count": 190,
   "id": "b074a47f",
   "metadata": {},
   "outputs": [],
   "source": [
    "df_angel['브랜드명'] = '엔제리너스'"
   ]
  },
  {
   "cell_type": "code",
   "execution_count": 191,
   "id": "90695529",
   "metadata": {},
   "outputs": [],
   "source": [
    "for i in range(len(df_angel)):\n",
    "    df_angel['매장명'][i] = df_angel.iloc[i]['매장명'].strip('엔제리너스( )')"
   ]
  },
  {
   "cell_type": "code",
   "execution_count": 192,
   "id": "b363e0d6",
   "metadata": {},
   "outputs": [
    {
     "data": {
      "text/html": [
       "<div>\n",
       "<style scoped>\n",
       "    .dataframe tbody tr th:only-of-type {\n",
       "        vertical-align: middle;\n",
       "    }\n",
       "\n",
       "    .dataframe tbody tr th {\n",
       "        vertical-align: top;\n",
       "    }\n",
       "\n",
       "    .dataframe thead th {\n",
       "        text-align: right;\n",
       "    }\n",
       "</style>\n",
       "<table border=\"1\" class=\"dataframe\">\n",
       "  <thead>\n",
       "    <tr style=\"text-align: right;\">\n",
       "      <th></th>\n",
       "      <th>지역</th>\n",
       "      <th>매장명</th>\n",
       "      <th>브랜드명</th>\n",
       "    </tr>\n",
       "  </thead>\n",
       "  <tbody>\n",
       "    <tr>\n",
       "      <th>0</th>\n",
       "      <td>충청남도 태안군 태안읍 702-1</td>\n",
       "      <td>충남태안점</td>\n",
       "      <td>엔제리너스</td>\n",
       "    </tr>\n",
       "    <tr>\n",
       "      <th>1</th>\n",
       "      <td>충청남도 서산시 안견로 191</td>\n",
       "      <td>서산터미널점</td>\n",
       "      <td>엔제리너스</td>\n",
       "    </tr>\n",
       "    <tr>\n",
       "      <th>2</th>\n",
       "      <td>경기도 시흥시 거북섬5길4 114,115,206,207호</td>\n",
       "      <td>시화거북섬</td>\n",
       "      <td>엔제리너스</td>\n",
       "    </tr>\n",
       "    <tr>\n",
       "      <th>3</th>\n",
       "      <td>인천광역시 연수구 컨벤시아대로 177 롯데마트</td>\n",
       "      <td>롯데마트송도점</td>\n",
       "      <td>엔제리너스</td>\n",
       "    </tr>\n",
       "    <tr>\n",
       "      <th>4</th>\n",
       "      <td>충청남도 홍성군 홍학로 87 엘가프라자</td>\n",
       "      <td>홍성내포엘가점</td>\n",
       "      <td>엔제리너스</td>\n",
       "    </tr>\n",
       "  </tbody>\n",
       "</table>\n",
       "</div>"
      ],
      "text/plain": [
       "                                지역      매장명   브랜드명\n",
       "0               충청남도 태안군 태안읍 702-1    충남태안점  엔제리너스\n",
       "1                 충청남도 서산시 안견로 191   서산터미널점  엔제리너스\n",
       "2  경기도 시흥시 거북섬5길4 114,115,206,207호    시화거북섬  엔제리너스\n",
       "3        인천광역시 연수구 컨벤시아대로 177 롯데마트  롯데마트송도점  엔제리너스\n",
       "4            충청남도 홍성군 홍학로 87 엘가프라자  홍성내포엘가점  엔제리너스"
      ]
     },
     "execution_count": 192,
     "metadata": {},
     "output_type": "execute_result"
    }
   ],
   "source": [
    "df_angel.head()"
   ]
  },
  {
   "cell_type": "code",
   "execution_count": 193,
   "id": "539bc965",
   "metadata": {},
   "outputs": [
    {
     "data": {
      "text/html": [
       "<div>\n",
       "<style scoped>\n",
       "    .dataframe tbody tr th:only-of-type {\n",
       "        vertical-align: middle;\n",
       "    }\n",
       "\n",
       "    .dataframe tbody tr th {\n",
       "        vertical-align: top;\n",
       "    }\n",
       "\n",
       "    .dataframe thead th {\n",
       "        text-align: right;\n",
       "    }\n",
       "</style>\n",
       "<table border=\"1\" class=\"dataframe\">\n",
       "  <thead>\n",
       "    <tr style=\"text-align: right;\">\n",
       "      <th></th>\n",
       "      <th>지역</th>\n",
       "      <th>매장명</th>\n",
       "      <th>브랜드명</th>\n",
       "    </tr>\n",
       "  </thead>\n",
       "  <tbody>\n",
       "    <tr>\n",
       "      <th>1</th>\n",
       "      <td>제주특별자치도 제주시 공항로</td>\n",
       "      <td>서산터미널점</td>\n",
       "      <td>엔제리너스</td>\n",
       "    </tr>\n",
       "    <tr>\n",
       "      <th>2</th>\n",
       "      <td>제주특별자치도 제주시 서해안로 24</td>\n",
       "      <td>시화거북섬</td>\n",
       "      <td>엔제리너스</td>\n",
       "    </tr>\n",
       "    <tr>\n",
       "      <th>3</th>\n",
       "      <td>제주특별자치도 제주시 연북로 514</td>\n",
       "      <td>롯데마트송도점</td>\n",
       "      <td>엔제리너스</td>\n",
       "    </tr>\n",
       "    <tr>\n",
       "      <th>4</th>\n",
       "      <td>제주특별자치도 제주시 수목원길 65-6</td>\n",
       "      <td>홍성내포엘가점</td>\n",
       "      <td>엔제리너스</td>\n",
       "    </tr>\n",
       "    <tr>\n",
       "      <th>5</th>\n",
       "      <td>제주특별자치도 서귀포시 남성중로 2-3</td>\n",
       "      <td>배곧테크노벨</td>\n",
       "      <td>엔제리너스</td>\n",
       "    </tr>\n",
       "  </tbody>\n",
       "</table>\n",
       "</div>"
      ],
      "text/plain": [
       "                      지역      매장명   브랜드명\n",
       "1       제주특별자치도 제주시 공항로    서산터미널점  엔제리너스\n",
       "2    제주특별자치도 제주시 서해안로 24    시화거북섬  엔제리너스\n",
       "3    제주특별자치도 제주시 연북로 514  롯데마트송도점  엔제리너스\n",
       "4  제주특별자치도 제주시 수목원길 65-6  홍성내포엘가점  엔제리너스\n",
       "5  제주특별자치도 서귀포시 남성중로 2-3   배곧테크노벨  엔제리너스"
      ]
     },
     "execution_count": 193,
     "metadata": {},
     "output_type": "execute_result"
    }
   ],
   "source": [
    "df_angel.tail()"
   ]
  },
  {
   "cell_type": "code",
   "execution_count": 194,
   "id": "077a2dfd",
   "metadata": {},
   "outputs": [],
   "source": [
    "file_name = \"angelinus.csv\"\n",
    "df_angel.to_csv(file_name,index = False ,  encoding=\"utf-8-sig\")"
   ]
  },
  {
   "cell_type": "markdown",
   "id": "246ad078",
   "metadata": {},
   "source": [
    "# 메가커피"
   ]
  },
  {
   "cell_type": "code",
   "execution_count": 195,
   "id": "69e49087",
   "metadata": {},
   "outputs": [],
   "source": [
    "from selenium import webdriver"
   ]
  },
  {
   "cell_type": "code",
   "execution_count": 196,
   "id": "2b29fcac",
   "metadata": {},
   "outputs": [],
   "source": [
    "def mega_scrapping(page_no):\n",
    "    url = f\"https://partner.payco.com/merchant/search/offline/detail/list?currentPage={page_no}&perPage=15&partnerType=FRANCHISE&partnerCode=MAGACOFFEE&searchWord=\"\n",
    "    headers = {'user-agent': 'Mozilla/5.0'}\n",
    "    response = requests.get(url, headers=headers)\n",
    "    angel_json = response.json()\n",
    "    df = pd.DataFrame(angel_json['partnerList'])\n",
    "    df = df[['partnerAddress','partnerName']]\n",
    "    return df"
   ]
  },
  {
   "cell_type": "code",
   "execution_count": 197,
   "id": "3f27164e",
   "metadata": {},
   "outputs": [
    {
     "data": {
      "text/html": [
       "<div>\n",
       "<style scoped>\n",
       "    .dataframe tbody tr th:only-of-type {\n",
       "        vertical-align: middle;\n",
       "    }\n",
       "\n",
       "    .dataframe tbody tr th {\n",
       "        vertical-align: top;\n",
       "    }\n",
       "\n",
       "    .dataframe thead th {\n",
       "        text-align: right;\n",
       "    }\n",
       "</style>\n",
       "<table border=\"1\" class=\"dataframe\">\n",
       "  <thead>\n",
       "    <tr style=\"text-align: right;\">\n",
       "      <th></th>\n",
       "      <th>partnerAddress</th>\n",
       "      <th>partnerName</th>\n",
       "    </tr>\n",
       "  </thead>\n",
       "  <tbody>\n",
       "    <tr>\n",
       "      <th>0</th>\n",
       "      <td>충청남도 태안군 태안읍 동문2길 25</td>\n",
       "      <td>메가MGC커피(태안점)</td>\n",
       "    </tr>\n",
       "    <tr>\n",
       "      <th>1</th>\n",
       "      <td>충청남도 서산시 성연면 성연3로 45 테크노프라자101호</td>\n",
       "      <td>메가MGC커피(서산테크노밸리점)</td>\n",
       "    </tr>\n",
       "    <tr>\n",
       "      <th>2</th>\n",
       "      <td>충청남도 서산시 호수공원3로 56 (예천동)</td>\n",
       "      <td>메가MGC커피(서산호수공원점)</td>\n",
       "    </tr>\n",
       "    <tr>\n",
       "      <th>3</th>\n",
       "      <td>충청남도 서산시 예천1로 24</td>\n",
       "      <td>메가MGC커피(서산예천점)</td>\n",
       "    </tr>\n",
       "    <tr>\n",
       "      <th>4</th>\n",
       "      <td>충청남도 서산시 고운로 275-5</td>\n",
       "      <td>메가MGC커피(서산동문점)</td>\n",
       "    </tr>\n",
       "    <tr>\n",
       "      <th>5</th>\n",
       "      <td>충청남도 서산시 율지18로 33</td>\n",
       "      <td>메가MGC커피(서산먹골점)</td>\n",
       "    </tr>\n",
       "    <tr>\n",
       "      <th>6</th>\n",
       "      <td>충청남도 당진시 북문로 6 메가커피(당진푸르지오점)</td>\n",
       "      <td>메가MGC커피(당진푸르지오점)</td>\n",
       "    </tr>\n",
       "    <tr>\n",
       "      <th>7</th>\n",
       "      <td>충청남도 당진시 당진중앙2로 91 1층(읍내동)</td>\n",
       "      <td>메가MGC커피(당진읍내점)</td>\n",
       "    </tr>\n",
       "    <tr>\n",
       "      <th>8</th>\n",
       "      <td>충청남도 당진시 밤절로 146 104호(수청동)</td>\n",
       "      <td>메가MGC커피(당진터미널점)</td>\n",
       "    </tr>\n",
       "    <tr>\n",
       "      <th>9</th>\n",
       "      <td>경기도 안산시 단원구 대부황금로 1466</td>\n",
       "      <td>메가MGC커피(대부도점)</td>\n",
       "    </tr>\n",
       "    <tr>\n",
       "      <th>10</th>\n",
       "      <td>경기도 안산시 단원구 대부황금로 90 .</td>\n",
       "      <td>메가MGC커피(대부도DI점)</td>\n",
       "    </tr>\n",
       "    <tr>\n",
       "      <th>11</th>\n",
       "      <td>충청남도 태안군 안면읍 응지마을길 34</td>\n",
       "      <td>메가MGC커피(안면도점)</td>\n",
       "    </tr>\n",
       "    <tr>\n",
       "      <th>12</th>\n",
       "      <td>충청남도 당진시 송산면 가곡로 156</td>\n",
       "      <td>메가MGC커피(당진현대제철점)</td>\n",
       "    </tr>\n",
       "    <tr>\n",
       "      <th>13</th>\n",
       "      <td>충청남도 당진시 송악읍 반촌로 70-16 .</td>\n",
       "      <td>메가MGC커피(당진기지시점)</td>\n",
       "    </tr>\n",
       "    <tr>\n",
       "      <th>14</th>\n",
       "      <td>인천광역시 중구 공항로424번길 60 .</td>\n",
       "      <td>메가MGC커피(영종합동청사점)</td>\n",
       "    </tr>\n",
       "  </tbody>\n",
       "</table>\n",
       "</div>"
      ],
      "text/plain": [
       "                      partnerAddress        partnerName\n",
       "0              충청남도 태안군 태안읍 동문2길 25        메가MGC커피(태안점)\n",
       "1   충청남도 서산시 성연면 성연3로 45 테크노프라자101호   메가MGC커피(서산테크노밸리점)\n",
       "2          충청남도 서산시 호수공원3로 56 (예천동)    메가MGC커피(서산호수공원점)\n",
       "3                   충청남도 서산시 예천1로 24     메가MGC커피(서산예천점)\n",
       "4                 충청남도 서산시 고운로 275-5     메가MGC커피(서산동문점)\n",
       "5                  충청남도 서산시 율지18로 33     메가MGC커피(서산먹골점)\n",
       "6      충청남도 당진시 북문로 6 메가커피(당진푸르지오점)    메가MGC커피(당진푸르지오점)\n",
       "7        충청남도 당진시 당진중앙2로 91 1층(읍내동)      메가MGC커피(당진읍내점)\n",
       "8        충청남도 당진시 밤절로 146 104호(수청동)     메가MGC커피(당진터미널점)\n",
       "9            경기도 안산시 단원구 대부황금로 1466       메가MGC커피(대부도점)\n",
       "10           경기도 안산시 단원구 대부황금로 90 .     메가MGC커피(대부도DI점)\n",
       "11            충청남도 태안군 안면읍 응지마을길 34       메가MGC커피(안면도점)\n",
       "12             충청남도 당진시 송산면 가곡로 156    메가MGC커피(당진현대제철점)\n",
       "13         충청남도 당진시 송악읍 반촌로 70-16 .     메가MGC커피(당진기지시점)\n",
       "14           인천광역시 중구 공항로424번길 60 .    메가MGC커피(영종합동청사점)"
      ]
     },
     "execution_count": 197,
     "metadata": {},
     "output_type": "execute_result"
    }
   ],
   "source": [
    "mega_scrapping(1)"
   ]
  },
  {
   "cell_type": "code",
   "execution_count": 198,
   "id": "f7d32246",
   "metadata": {},
   "outputs": [
    {
     "name": "stderr",
     "output_type": "stream",
     "text": [
      "100%|████████████████████████████████████████████████████████████████████████████████| 148/148 [00:15<00:00,  9.61it/s]\n"
     ]
    }
   ],
   "source": [
    "from tqdm import trange\n",
    "import time\n",
    "last_page = 148 # 메가커피 마지막 페이지\n",
    "\n",
    "requests.packages.urllib3.disable_warnings(requests.packages.urllib3.exceptions.InsecureRequestWarning)\n",
    "\n",
    "page_list = []\n",
    "for page_no in trange(1,int(last_page)+1):\n",
    "    result = mega_scrapping(page_no)\n",
    "    page_list.append(result)\n",
    "    time.sleep(0.01)"
   ]
  },
  {
   "cell_type": "code",
   "execution_count": 199,
   "id": "dd69bb4d",
   "metadata": {},
   "outputs": [],
   "source": [
    "df_mega = pd.concat(page_list)"
   ]
  },
  {
   "cell_type": "code",
   "execution_count": 176,
   "id": "8b93cfad",
   "metadata": {},
   "outputs": [
    {
     "data": {
      "text/plain": [
       "(2206, 2)"
      ]
     },
     "execution_count": 176,
     "metadata": {},
     "output_type": "execute_result"
    }
   ],
   "source": [
    "df_mega.shape"
   ]
  },
  {
   "cell_type": "code",
   "execution_count": 177,
   "id": "93156843",
   "metadata": {},
   "outputs": [],
   "source": [
    "df_mega.columns = ['지역', '매장명']"
   ]
  },
  {
   "cell_type": "code",
   "execution_count": 178,
   "id": "2db21650",
   "metadata": {},
   "outputs": [],
   "source": [
    "df_mega['브랜드명'] = '메가커피'"
   ]
  },
  {
   "cell_type": "code",
   "execution_count": 180,
   "id": "85829057",
   "metadata": {},
   "outputs": [],
   "source": [
    "for i in range(len(df_mega)):\n",
    "    df_mega['매장명'][i] = df_mega.iloc[i]['매장명'].strip('메가MGC커피(  )')"
   ]
  },
  {
   "cell_type": "code",
   "execution_count": 181,
   "id": "7013e8a3",
   "metadata": {},
   "outputs": [
    {
     "data": {
      "text/html": [
       "<div>\n",
       "<style scoped>\n",
       "    .dataframe tbody tr th:only-of-type {\n",
       "        vertical-align: middle;\n",
       "    }\n",
       "\n",
       "    .dataframe tbody tr th {\n",
       "        vertical-align: top;\n",
       "    }\n",
       "\n",
       "    .dataframe thead th {\n",
       "        text-align: right;\n",
       "    }\n",
       "</style>\n",
       "<table border=\"1\" class=\"dataframe\">\n",
       "  <thead>\n",
       "    <tr style=\"text-align: right;\">\n",
       "      <th></th>\n",
       "      <th>지역</th>\n",
       "      <th>매장명</th>\n",
       "      <th>브랜드명</th>\n",
       "    </tr>\n",
       "  </thead>\n",
       "  <tbody>\n",
       "    <tr>\n",
       "      <th>0</th>\n",
       "      <td>충청남도 태안군 태안읍 동문2길 25</td>\n",
       "      <td>태안점</td>\n",
       "      <td>메가커피</td>\n",
       "    </tr>\n",
       "    <tr>\n",
       "      <th>1</th>\n",
       "      <td>충청남도 서산시 성연면 성연3로 45 테크노프라자101호</td>\n",
       "      <td>서산테크노밸리점</td>\n",
       "      <td>메가커피</td>\n",
       "    </tr>\n",
       "    <tr>\n",
       "      <th>2</th>\n",
       "      <td>충청남도 서산시 호수공원3로 56 (예천동)</td>\n",
       "      <td>서산호수공원점</td>\n",
       "      <td>메가커피</td>\n",
       "    </tr>\n",
       "    <tr>\n",
       "      <th>3</th>\n",
       "      <td>충청남도 서산시 예천1로 24</td>\n",
       "      <td>서산예천점</td>\n",
       "      <td>메가커피</td>\n",
       "    </tr>\n",
       "    <tr>\n",
       "      <th>4</th>\n",
       "      <td>충청남도 서산시 고운로 275-5</td>\n",
       "      <td>서산동문점</td>\n",
       "      <td>메가커피</td>\n",
       "    </tr>\n",
       "  </tbody>\n",
       "</table>\n",
       "</div>"
      ],
      "text/plain": [
       "                                 지역       매장명  브랜드명\n",
       "0             충청남도 태안군 태안읍 동문2길 25        태안점  메가커피\n",
       "1  충청남도 서산시 성연면 성연3로 45 테크노프라자101호   서산테크노밸리점  메가커피\n",
       "2         충청남도 서산시 호수공원3로 56 (예천동)    서산호수공원점  메가커피\n",
       "3                  충청남도 서산시 예천1로 24     서산예천점  메가커피\n",
       "4                충청남도 서산시 고운로 275-5     서산동문점  메가커피"
      ]
     },
     "execution_count": 181,
     "metadata": {},
     "output_type": "execute_result"
    }
   ],
   "source": [
    "df_mega.head()"
   ]
  },
  {
   "cell_type": "code",
   "execution_count": 182,
   "id": "3c82a6ec",
   "metadata": {},
   "outputs": [],
   "source": [
    "file_name = \"megacoffee.csv\"\n",
    "df_mega.to_csv(file_name,index = False ,  encoding=\"utf-8-sig\")"
   ]
  },
  {
   "cell_type": "markdown",
   "id": "7f668e2b",
   "metadata": {},
   "source": [
    "# 컴포즈커피"
   ]
  },
  {
   "cell_type": "code",
   "execution_count": 203,
   "id": "9f5368d7",
   "metadata": {},
   "outputs": [],
   "source": [
    "def compose_scrapping(page_no):\n",
    "    url = f\"https://partner.payco.com/merchant/search/offline/detail/list?currentPage={page_no}&perPage=15&partnerType=FRANCHISE&partnerCode=COMPOSECOFFEE&searchWord=\"\n",
    "    headers = {'user-agent': 'Mozilla/5.0'}\n",
    "    response = requests.get(url, headers=headers)\n",
    "    angel_json = response.json()\n",
    "    df = pd.DataFrame(angel_json['partnerList'])\n",
    "    df = df[['partnerAddress','partnerName']]\n",
    "    return df"
   ]
  },
  {
   "cell_type": "code",
   "execution_count": 204,
   "id": "b6089780",
   "metadata": {},
   "outputs": [
    {
     "data": {
      "text/html": [
       "<div>\n",
       "<style scoped>\n",
       "    .dataframe tbody tr th:only-of-type {\n",
       "        vertical-align: middle;\n",
       "    }\n",
       "\n",
       "    .dataframe tbody tr th {\n",
       "        vertical-align: top;\n",
       "    }\n",
       "\n",
       "    .dataframe thead th {\n",
       "        text-align: right;\n",
       "    }\n",
       "</style>\n",
       "<table border=\"1\" class=\"dataframe\">\n",
       "  <thead>\n",
       "    <tr style=\"text-align: right;\">\n",
       "      <th></th>\n",
       "      <th>partnerAddress</th>\n",
       "      <th>partnerName</th>\n",
       "    </tr>\n",
       "  </thead>\n",
       "  <tbody>\n",
       "    <tr>\n",
       "      <th>0</th>\n",
       "      <td>충청남도 서산시 예천동 1261-3 컴포즈커피(서산호수공원점)</td>\n",
       "      <td>컴포즈커피(서산호수공원점)</td>\n",
       "    </tr>\n",
       "    <tr>\n",
       "      <th>1</th>\n",
       "      <td>충청남도 서산시 석림1로 68 컴포즈커피(서산석림점)</td>\n",
       "      <td>컴포즈커피(서산석림점)</td>\n",
       "    </tr>\n",
       "    <tr>\n",
       "      <th>2</th>\n",
       "      <td>인천광역시 중구 흰바위로 236 1층119호(운남동,영종메가타워)</td>\n",
       "      <td>컴포즈커피(인천영종메가타워점)</td>\n",
       "    </tr>\n",
       "    <tr>\n",
       "      <th>3</th>\n",
       "      <td>충청남도 당진시 송악읍 신복운로3길 23-1 1층</td>\n",
       "      <td>컴포즈커피(당진송악점)</td>\n",
       "    </tr>\n",
       "    <tr>\n",
       "      <th>4</th>\n",
       "      <td>인천광역시 연수구 하모니로 271 제1동 102호</td>\n",
       "      <td>컴포즈커피(송도인천대점)</td>\n",
       "    </tr>\n",
       "    <tr>\n",
       "      <th>5</th>\n",
       "      <td>인천광역시 중구 넙디로 28 미도빌딩2 102호</td>\n",
       "      <td>컴포즈커피(인천영종넙디점)</td>\n",
       "    </tr>\n",
       "    <tr>\n",
       "      <th>6</th>\n",
       "      <td>인천광역시 중구 영종대로 162번길 26 1층 112호(운서동, 삼성홈큐브)</td>\n",
       "      <td>컴포즈커피(인천운서역점)</td>\n",
       "    </tr>\n",
       "    <tr>\n",
       "      <th>7</th>\n",
       "      <td>인천광역시 연수구 송도미래로 30, f동 2층 215호 컴포즈커피 송도스마트밸리점</td>\n",
       "      <td>컴포즈커피(송도스마트밸리점)</td>\n",
       "    </tr>\n",
       "    <tr>\n",
       "      <th>8</th>\n",
       "      <td>인천광역시 연수구 컨벤시아대로230번길 54 A124호</td>\n",
       "      <td>컴포즈커피(송도닥터플러스몰점)</td>\n",
       "    </tr>\n",
       "    <tr>\n",
       "      <th>9</th>\n",
       "      <td>인천광역시 연수구 송도동 8-21 컴포즈커피(송도타임스페이스점)</td>\n",
       "      <td>컴포즈커피(송도타임스페이스점)</td>\n",
       "    </tr>\n",
       "    <tr>\n",
       "      <th>10</th>\n",
       "      <td>인천광역시 연수구 랜드마크로 113 상가 B-2동 113호(송도동, e편한세상 송도)</td>\n",
       "      <td>컴포즈커피(인천송도이편한세상점)</td>\n",
       "    </tr>\n",
       "    <tr>\n",
       "      <th>11</th>\n",
       "      <td>인천광역시 연수구 인천타워대로 지하 57 지하1층</td>\n",
       "      <td>컴포즈커피(송도지식정보단지역점)</td>\n",
       "    </tr>\n",
       "    <tr>\n",
       "      <th>12</th>\n",
       "      <td>인천광역시 연수구 인천타워대로 지하 57 지하1층 (송도동, 지식정보단지역)</td>\n",
       "      <td>컴포즈커피(지식정보단지역점)</td>\n",
       "    </tr>\n",
       "    <tr>\n",
       "      <th>13</th>\n",
       "      <td>충청남도 예산군 삽교읍 의향로 315 112호(내포 에드가프라자 3차)</td>\n",
       "      <td>컴포즈커피(충남도청점)</td>\n",
       "    </tr>\n",
       "    <tr>\n",
       "      <th>14</th>\n",
       "      <td>인천광역시 연수구 송도문화로28번길 28 컴포즈커피(송도글로벌캠퍼스점)</td>\n",
       "      <td>컴포즈커피(송도글로벌캠퍼스점)</td>\n",
       "    </tr>\n",
       "  </tbody>\n",
       "</table>\n",
       "</div>"
      ],
      "text/plain": [
       "                                      partnerAddress        partnerName\n",
       "0                충청남도 서산시 예천동 1261-3 컴포즈커피(서산호수공원점)      컴포즈커피(서산호수공원점)\n",
       "1                     충청남도 서산시 석림1로 68 컴포즈커피(서산석림점)        컴포즈커피(서산석림점)\n",
       "2              인천광역시 중구 흰바위로 236 1층119호(운남동,영종메가타워)    컴포즈커피(인천영종메가타워점)\n",
       "3                       충청남도 당진시 송악읍 신복운로3길 23-1 1층        컴포즈커피(당진송악점)\n",
       "4                       인천광역시 연수구 하모니로 271 제1동 102호       컴포즈커피(송도인천대점)\n",
       "5                        인천광역시 중구 넙디로 28 미도빌딩2 102호      컴포즈커피(인천영종넙디점)\n",
       "6        인천광역시 중구 영종대로 162번길 26 1층 112호(운서동, 삼성홈큐브)       컴포즈커피(인천운서역점)\n",
       "7     인천광역시 연수구 송도미래로 30, f동 2층 215호 컴포즈커피 송도스마트밸리점     컴포즈커피(송도스마트밸리점)\n",
       "8                    인천광역시 연수구 컨벤시아대로230번길 54 A124호    컴포즈커피(송도닥터플러스몰점)\n",
       "9               인천광역시 연수구 송도동 8-21 컴포즈커피(송도타임스페이스점)    컴포즈커피(송도타임스페이스점)\n",
       "10  인천광역시 연수구 랜드마크로 113 상가 B-2동 113호(송도동, e편한세상 송도)   컴포즈커피(인천송도이편한세상점)\n",
       "11                      인천광역시 연수구 인천타워대로 지하 57 지하1층   컴포즈커피(송도지식정보단지역점)\n",
       "12       인천광역시 연수구 인천타워대로 지하 57 지하1층 (송도동, 지식정보단지역)     컴포즈커피(지식정보단지역점)\n",
       "13          충청남도 예산군 삽교읍 의향로 315 112호(내포 에드가프라자 3차)        컴포즈커피(충남도청점)\n",
       "14          인천광역시 연수구 송도문화로28번길 28 컴포즈커피(송도글로벌캠퍼스점)    컴포즈커피(송도글로벌캠퍼스점)"
      ]
     },
     "execution_count": 204,
     "metadata": {},
     "output_type": "execute_result"
    }
   ],
   "source": [
    "compose_scrapping(1)"
   ]
  },
  {
   "cell_type": "code",
   "execution_count": 205,
   "id": "57b043d7",
   "metadata": {},
   "outputs": [
    {
     "name": "stderr",
     "output_type": "stream",
     "text": [
      "100%|████████████████████████████████████████████████████████████████████████████████| 125/125 [00:13<00:00,  9.60it/s]\n"
     ]
    }
   ],
   "source": [
    "from tqdm import trange\n",
    "import time\n",
    "last_page = 125 # 컴포즈커피 마지막 페이지\n",
    "\n",
    "requests.packages.urllib3.disable_warnings(requests.packages.urllib3.exceptions.InsecureRequestWarning)\n",
    "\n",
    "page_list = []\n",
    "for page_no in trange(1,int(last_page)+1):\n",
    "    result = compose_scrapping(page_no)\n",
    "    page_list.append(result)\n",
    "    time.sleep(0.01)"
   ]
  },
  {
   "cell_type": "code",
   "execution_count": 206,
   "id": "c4de372a",
   "metadata": {},
   "outputs": [],
   "source": [
    "df_compose = pd.concat(page_list)"
   ]
  },
  {
   "cell_type": "code",
   "execution_count": 207,
   "id": "f9d1f131",
   "metadata": {},
   "outputs": [
    {
     "data": {
      "text/plain": [
       "(1866, 2)"
      ]
     },
     "execution_count": 207,
     "metadata": {},
     "output_type": "execute_result"
    }
   ],
   "source": [
    "df_compose.shape"
   ]
  },
  {
   "cell_type": "code",
   "execution_count": 209,
   "id": "4c8b8c9e",
   "metadata": {},
   "outputs": [],
   "source": [
    "df_compose.columns = ['지역', '매장명']"
   ]
  },
  {
   "cell_type": "code",
   "execution_count": 210,
   "id": "76c6269f",
   "metadata": {},
   "outputs": [],
   "source": [
    "df_compose['브랜드명'] = '컴포즈커피'"
   ]
  },
  {
   "cell_type": "code",
   "execution_count": 213,
   "id": "3a70ec1a",
   "metadata": {},
   "outputs": [],
   "source": [
    "for i in range(len(df_compose)):\n",
    "    df_compose['매장명'][i] = df_compose.iloc[i]['매장명'].strip('컴포즈커피(  )')"
   ]
  },
  {
   "cell_type": "code",
   "execution_count": 214,
   "id": "4d808877",
   "metadata": {},
   "outputs": [
    {
     "data": {
      "text/html": [
       "<div>\n",
       "<style scoped>\n",
       "    .dataframe tbody tr th:only-of-type {\n",
       "        vertical-align: middle;\n",
       "    }\n",
       "\n",
       "    .dataframe tbody tr th {\n",
       "        vertical-align: top;\n",
       "    }\n",
       "\n",
       "    .dataframe thead th {\n",
       "        text-align: right;\n",
       "    }\n",
       "</style>\n",
       "<table border=\"1\" class=\"dataframe\">\n",
       "  <thead>\n",
       "    <tr style=\"text-align: right;\">\n",
       "      <th></th>\n",
       "      <th>지역</th>\n",
       "      <th>매장명</th>\n",
       "      <th>브랜드명</th>\n",
       "    </tr>\n",
       "  </thead>\n",
       "  <tbody>\n",
       "    <tr>\n",
       "      <th>0</th>\n",
       "      <td>충청남도 서산시 예천동 1261-3 컴포즈커피(서산호수공원점)</td>\n",
       "      <td>서산호수공원점</td>\n",
       "      <td>컴포즈커피</td>\n",
       "    </tr>\n",
       "    <tr>\n",
       "      <th>1</th>\n",
       "      <td>충청남도 서산시 석림1로 68 컴포즈커피(서산석림점)</td>\n",
       "      <td>서산석림점</td>\n",
       "      <td>컴포즈커피</td>\n",
       "    </tr>\n",
       "    <tr>\n",
       "      <th>2</th>\n",
       "      <td>인천광역시 중구 흰바위로 236 1층119호(운남동,영종메가타워)</td>\n",
       "      <td>인천영종메가타워점</td>\n",
       "      <td>컴포즈커피</td>\n",
       "    </tr>\n",
       "    <tr>\n",
       "      <th>3</th>\n",
       "      <td>충청남도 당진시 송악읍 신복운로3길 23-1 1층</td>\n",
       "      <td>당진송악점</td>\n",
       "      <td>컴포즈커피</td>\n",
       "    </tr>\n",
       "    <tr>\n",
       "      <th>4</th>\n",
       "      <td>인천광역시 연수구 하모니로 271 제1동 102호</td>\n",
       "      <td>송도인천대점</td>\n",
       "      <td>컴포즈커피</td>\n",
       "    </tr>\n",
       "  </tbody>\n",
       "</table>\n",
       "</div>"
      ],
      "text/plain": [
       "                                      지역        매장명   브랜드명\n",
       "0    충청남도 서산시 예천동 1261-3 컴포즈커피(서산호수공원점)     서산호수공원점  컴포즈커피\n",
       "1         충청남도 서산시 석림1로 68 컴포즈커피(서산석림점)       서산석림점  컴포즈커피\n",
       "2  인천광역시 중구 흰바위로 236 1층119호(운남동,영종메가타워)   인천영종메가타워점  컴포즈커피\n",
       "3           충청남도 당진시 송악읍 신복운로3길 23-1 1층       당진송악점  컴포즈커피\n",
       "4           인천광역시 연수구 하모니로 271 제1동 102호      송도인천대점  컴포즈커피"
      ]
     },
     "execution_count": 214,
     "metadata": {},
     "output_type": "execute_result"
    }
   ],
   "source": [
    "df_compose.head()"
   ]
  },
  {
   "cell_type": "code",
   "execution_count": 215,
   "id": "89d78dba",
   "metadata": {},
   "outputs": [],
   "source": [
    "file_name = \"composecoffee.csv\"\n",
    "df_compose.to_csv(file_name,index = False ,  encoding=\"utf-8-sig\")"
   ]
  },
  {
   "cell_type": "markdown",
   "id": "66b6fa87",
   "metadata": {},
   "source": [
    "# 폴바셋"
   ]
  },
  {
   "cell_type": "code",
   "execution_count": 10,
   "id": "9d8ccdd5",
   "metadata": {},
   "outputs": [],
   "source": [
    "def paul_scrapping(page_no):\n",
    "    url = f\"https://partner.payco.com/merchant/search/offline/detail/list?currentPage={page_no}&perPage=15&partnerType=FRANCHISE&partnerCode=PAULBASSETT&searchWord=\"\n",
    "    headers = {'user-agent': 'Mozilla/5.0'}\n",
    "    response = requests.get(url, headers=headers)\n",
    "    paul_json = response.json()\n",
    "    df = pd.DataFrame(paul_json['partnerList'])\n",
    "    df = df[['partnerAddress','partnerName']]\n",
    "    return df"
   ]
  },
  {
   "cell_type": "code",
   "execution_count": 11,
   "id": "029990c5",
   "metadata": {},
   "outputs": [
    {
     "data": {
      "text/html": [
       "<div>\n",
       "<style scoped>\n",
       "    .dataframe tbody tr th:only-of-type {\n",
       "        vertical-align: middle;\n",
       "    }\n",
       "\n",
       "    .dataframe tbody tr th {\n",
       "        vertical-align: top;\n",
       "    }\n",
       "\n",
       "    .dataframe thead th {\n",
       "        text-align: right;\n",
       "    }\n",
       "</style>\n",
       "<table border=\"1\" class=\"dataframe\">\n",
       "  <thead>\n",
       "    <tr style=\"text-align: right;\">\n",
       "      <th></th>\n",
       "      <th>partnerAddress</th>\n",
       "      <th>partnerName</th>\n",
       "    </tr>\n",
       "  </thead>\n",
       "  <tbody>\n",
       "    <tr>\n",
       "      <th>0</th>\n",
       "      <td>인천광역시 연수구 송도과학로 16번길 33-3 C동 폴바셋</td>\n",
       "      <td>폴바셋(송도트리플스트리트점)</td>\n",
       "    </tr>\n",
       "    <tr>\n",
       "      <th>1</th>\n",
       "      <td>경기도 시흥시 서울대학로278번길 19-13 1층</td>\n",
       "      <td>폴바셋(시흥배곧점)</td>\n",
       "    </tr>\n",
       "    <tr>\n",
       "      <th>2</th>\n",
       "      <td>서울특별시 강서구 공항대로 389 폴바셋</td>\n",
       "      <td>폴바셋(강서부민병원점)</td>\n",
       "    </tr>\n",
       "    <tr>\n",
       "      <th>3</th>\n",
       "      <td>서울특별시 구로동 832 구로 G타워점 1층 폴 바셋</td>\n",
       "      <td>폴바셋(구로G타워점)</td>\n",
       "    </tr>\n",
       "    <tr>\n",
       "      <th>4</th>\n",
       "      <td>서울특별시 구로구 구로동로 148 고대구로병원 신관 1층</td>\n",
       "      <td>폴바셋(고대구로병원점)</td>\n",
       "    </tr>\n",
       "    <tr>\n",
       "      <th>5</th>\n",
       "      <td>서울특별시 구로구 디지털로  300 지밸리비즈플라자</td>\n",
       "      <td>폴바셋(구로지밸리몰점)</td>\n",
       "    </tr>\n",
       "    <tr>\n",
       "      <th>6</th>\n",
       "      <td>서울특별시 양천구 목동동로  377</td>\n",
       "      <td>폴바셋(목동5단지점)</td>\n",
       "    </tr>\n",
       "    <tr>\n",
       "      <th>7</th>\n",
       "      <td>서울특별시 영등포구 영중로 15, 타임스퀘어 2층 교보문고 내 폴 바셋 영등포 타임...</td>\n",
       "      <td>폴바셋(영등포 타임스퀘어점)</td>\n",
       "    </tr>\n",
       "    <tr>\n",
       "      <th>8</th>\n",
       "      <td>경기도 수원시 영통구 광교중앙로 145, 광교엘포트아이파크 1층(1이의동)</td>\n",
       "      <td>폴바셋(광교엘포트몰점)</td>\n",
       "    </tr>\n",
       "    <tr>\n",
       "      <th>9</th>\n",
       "      <td>경기도 고양시 일산동구 중앙로 1205 일산차병원 1층 폴 바셋</td>\n",
       "      <td>폴바셋(일산마두점)</td>\n",
       "    </tr>\n",
       "    <tr>\n",
       "      <th>10</th>\n",
       "      <td>서울특별시 영등포구 국회대로68길  18 금영빌딩</td>\n",
       "      <td>폴바셋(국회의사당역점)</td>\n",
       "    </tr>\n",
       "    <tr>\n",
       "      <th>11</th>\n",
       "      <td>서울특별시 영등포구 여의대로  66 KTB</td>\n",
       "      <td>폴바셋(여의도점)</td>\n",
       "    </tr>\n",
       "    <tr>\n",
       "      <th>12</th>\n",
       "      <td>서울특별시 영등포구 여의도동 23 IFC몰 L2층</td>\n",
       "      <td>폴바셋(여의도 IFC몰점)</td>\n",
       "    </tr>\n",
       "    <tr>\n",
       "      <th>13</th>\n",
       "      <td>서울특별시 마포구 월드컵로1길  14 마포 한강 푸르지오</td>\n",
       "      <td>폴바셋(교보문고합정점)</td>\n",
       "    </tr>\n",
       "    <tr>\n",
       "      <th>14</th>\n",
       "      <td>서울특별시 마포구 성암로  267 (주)문화방송</td>\n",
       "      <td>폴바셋(MBC몰파크점)</td>\n",
       "    </tr>\n",
       "  </tbody>\n",
       "</table>\n",
       "</div>"
      ],
      "text/plain": [
       "                                       partnerAddress      partnerName\n",
       "0                   인천광역시 연수구 송도과학로 16번길 33-3 C동 폴바셋   폴바셋(송도트리플스트리트점)\n",
       "1                        경기도 시흥시 서울대학로278번길 19-13 1층        폴바셋(시흥배곧점)\n",
       "2                             서울특별시 강서구 공항대로 389 폴바셋      폴바셋(강서부민병원점)\n",
       "3                      서울특별시 구로동 832 구로 G타워점 1층 폴 바셋       폴바셋(구로G타워점)\n",
       "4                    서울특별시 구로구 구로동로 148 고대구로병원 신관 1층      폴바셋(고대구로병원점)\n",
       "5                        서울특별시 구로구 디지털로  300 지밸리비즈플라자     폴바셋(구로지밸리몰점)\n",
       "6                                 서울특별시 양천구 목동동로  377      폴바셋(목동5단지점)\n",
       "7   서울특별시 영등포구 영중로 15, 타임스퀘어 2층 교보문고 내 폴 바셋 영등포 타임...  폴바셋(영등포 타임스퀘어점)\n",
       "8          경기도 수원시 영통구 광교중앙로 145, 광교엘포트아이파크 1층(1이의동)      폴바셋(광교엘포트몰점)\n",
       "9                경기도 고양시 일산동구 중앙로 1205 일산차병원 1층 폴 바셋        폴바셋(일산마두점)\n",
       "10                        서울특별시 영등포구 국회대로68길  18 금영빌딩     폴바셋(국회의사당역점)\n",
       "11                            서울특별시 영등포구 여의대로  66 KTB        폴바셋(여의도점)\n",
       "12                       서울특별시 영등포구 여의도동 23 IFC몰 L2층    폴바셋(여의도 IFC몰점)\n",
       "13                    서울특별시 마포구 월드컵로1길  14 마포 한강 푸르지오     폴바셋(교보문고합정점)\n",
       "14                         서울특별시 마포구 성암로  267 (주)문화방송     폴바셋(MBC몰파크점)"
      ]
     },
     "execution_count": 11,
     "metadata": {},
     "output_type": "execute_result"
    }
   ],
   "source": [
    "paul_scrapping(1)"
   ]
  },
  {
   "cell_type": "code",
   "execution_count": 13,
   "id": "d6a0beae",
   "metadata": {},
   "outputs": [
    {
     "name": "stderr",
     "output_type": "stream",
     "text": [
      "100%|████████████████████████████████████████████████████████████████████████████████████| 4/4 [00:00<00:00,  9.40it/s]\n"
     ]
    }
   ],
   "source": [
    "from tqdm import trange\n",
    "import time\n",
    "last_page = 4 # 폴바셋커피 마지막 페이지\n",
    "\n",
    "requests.packages.urllib3.disable_warnings(requests.packages.urllib3.exceptions.InsecureRequestWarning)\n",
    "\n",
    "page_list = []\n",
    "for page_no in trange(1,int(last_page)+1):\n",
    "    result = paul_scrapping(page_no)\n",
    "    page_list.append(result)\n",
    "    time.sleep(0.01)"
   ]
  },
  {
   "cell_type": "code",
   "execution_count": 14,
   "id": "cf6dca55",
   "metadata": {},
   "outputs": [],
   "source": [
    "df_paul = pd.concat(page_list)"
   ]
  },
  {
   "cell_type": "code",
   "execution_count": 15,
   "id": "a8b976e8",
   "metadata": {},
   "outputs": [
    {
     "data": {
      "text/plain": [
       "(55, 2)"
      ]
     },
     "execution_count": 15,
     "metadata": {},
     "output_type": "execute_result"
    }
   ],
   "source": [
    "df_paul.shape"
   ]
  },
  {
   "cell_type": "code",
   "execution_count": 16,
   "id": "4c6b1ccb",
   "metadata": {},
   "outputs": [],
   "source": [
    "df_paul.columns = ['지역', '매장명']\n",
    "df_paul['브랜드명'] = '폴바셋'"
   ]
  },
  {
   "cell_type": "code",
   "execution_count": 18,
   "id": "85dc2110",
   "metadata": {},
   "outputs": [],
   "source": [
    "for i in range(len(df_paul)):\n",
    "    df_paul['매장명'][i] = df_paul.iloc[i]['매장명'].strip('폴바셋(  )')"
   ]
  },
  {
   "cell_type": "code",
   "execution_count": 19,
   "id": "9eb6061e",
   "metadata": {},
   "outputs": [
    {
     "data": {
      "text/html": [
       "<div>\n",
       "<style scoped>\n",
       "    .dataframe tbody tr th:only-of-type {\n",
       "        vertical-align: middle;\n",
       "    }\n",
       "\n",
       "    .dataframe tbody tr th {\n",
       "        vertical-align: top;\n",
       "    }\n",
       "\n",
       "    .dataframe thead th {\n",
       "        text-align: right;\n",
       "    }\n",
       "</style>\n",
       "<table border=\"1\" class=\"dataframe\">\n",
       "  <thead>\n",
       "    <tr style=\"text-align: right;\">\n",
       "      <th></th>\n",
       "      <th>지역</th>\n",
       "      <th>매장명</th>\n",
       "      <th>브랜드명</th>\n",
       "    </tr>\n",
       "  </thead>\n",
       "  <tbody>\n",
       "    <tr>\n",
       "      <th>0</th>\n",
       "      <td>인천광역시 연수구 송도과학로 16번길 33-3 C동 폴바셋</td>\n",
       "      <td>송도트리플스트리트점</td>\n",
       "      <td>폴바셋</td>\n",
       "    </tr>\n",
       "    <tr>\n",
       "      <th>1</th>\n",
       "      <td>경기도 시흥시 서울대학로278번길 19-13 1층</td>\n",
       "      <td>시흥배곧점</td>\n",
       "      <td>폴바셋</td>\n",
       "    </tr>\n",
       "    <tr>\n",
       "      <th>2</th>\n",
       "      <td>서울특별시 강서구 공항대로 389 폴바셋</td>\n",
       "      <td>강서부민병원점</td>\n",
       "      <td>폴바셋</td>\n",
       "    </tr>\n",
       "    <tr>\n",
       "      <th>3</th>\n",
       "      <td>서울특별시 구로동 832 구로 G타워점 1층 폴 바셋</td>\n",
       "      <td>구로G타워점</td>\n",
       "      <td>폴바셋</td>\n",
       "    </tr>\n",
       "    <tr>\n",
       "      <th>4</th>\n",
       "      <td>서울특별시 구로구 구로동로 148 고대구로병원 신관 1층</td>\n",
       "      <td>고대구로병원점</td>\n",
       "      <td>폴바셋</td>\n",
       "    </tr>\n",
       "  </tbody>\n",
       "</table>\n",
       "</div>"
      ],
      "text/plain": [
       "                                  지역         매장명 브랜드명\n",
       "0  인천광역시 연수구 송도과학로 16번길 33-3 C동 폴바셋   송도트리플스트리트점  폴바셋\n",
       "1       경기도 시흥시 서울대학로278번길 19-13 1층        시흥배곧점  폴바셋\n",
       "2            서울특별시 강서구 공항대로 389 폴바셋      강서부민병원점  폴바셋\n",
       "3     서울특별시 구로동 832 구로 G타워점 1층 폴 바셋       구로G타워점  폴바셋\n",
       "4   서울특별시 구로구 구로동로 148 고대구로병원 신관 1층      고대구로병원점  폴바셋"
      ]
     },
     "execution_count": 19,
     "metadata": {},
     "output_type": "execute_result"
    }
   ],
   "source": [
    "df_paul.head()"
   ]
  },
  {
   "cell_type": "code",
   "execution_count": 20,
   "id": "4d1a55f1",
   "metadata": {},
   "outputs": [],
   "source": [
    "file_name = \"PaulBassett.csv\"\n",
    "df_paul.to_csv(file_name,index = False ,  encoding=\"utf-8-sig\")"
   ]
  },
  {
   "cell_type": "code",
   "execution_count": null,
   "id": "1c7bf5d0",
   "metadata": {},
   "outputs": [],
   "source": []
  }
 ],
 "metadata": {
  "kernelspec": {
   "display_name": "Python 3 (ipykernel)",
   "language": "python",
   "name": "python3"
  },
  "language_info": {
   "codemirror_mode": {
    "name": "ipython",
    "version": 3
   },
   "file_extension": ".py",
   "mimetype": "text/x-python",
   "name": "python",
   "nbconvert_exporter": "python",
   "pygments_lexer": "ipython3",
   "version": "3.9.13"
  },
  "toc": {
   "base_numbering": 1,
   "nav_menu": {},
   "number_sections": true,
   "sideBar": true,
   "skip_h1_title": false,
   "title_cell": "Table of Contents",
   "title_sidebar": "Contents",
   "toc_cell": false,
   "toc_position": {},
   "toc_section_display": true,
   "toc_window_display": false
  }
 },
 "nbformat": 4,
 "nbformat_minor": 5
}
